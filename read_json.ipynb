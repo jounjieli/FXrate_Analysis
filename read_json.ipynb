{
 "cells": [
  {
   "cell_type": "code",
   "execution_count": null,
   "metadata": {},
   "outputs": [],
   "source": [
    "import json\n",
    "file = r\"C:\\Users\\Jhin\\Downloads\\gdp_data.json\"\n",
    "with open(file) as f:\n",
    "    data_ = f.read()\n",
    "    \n",
    "data_list = data_.split(\"\\n\")\n",
    "\n",
    "for data in data_list:\n",
    "    if data != \"\":\n",
    "        print(json.loads(data))"
   ]
  }
 ],
 "metadata": {
  "kernelspec": {
   "display_name": "Python 3",
   "language": "python",
   "name": "python3"
  },
  "language_info": {
   "name": ""
  }
 },
 "nbformat": 4,
 "nbformat_minor": 2
}
